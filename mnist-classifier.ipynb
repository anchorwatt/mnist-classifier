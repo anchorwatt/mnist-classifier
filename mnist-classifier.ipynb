{
 "cells": [
  {
   "cell_type": "markdown",
   "metadata": {},
   "source": [
    "## Setup\n",
    "\n",
    "First we import the necessary modules and data."
   ]
  },
  {
   "cell_type": "code",
   "execution_count": 1,
   "metadata": {
    "collapsed": true
   },
   "outputs": [],
   "source": [
    "import math\n",
    "import numpy as np\n",
    "import matplotlib.pyplot as plt\n",
    "import tensorflow as tf\n",
    "%matplotlib inline"
   ]
  },
  {
   "cell_type": "code",
   "execution_count": 2,
   "metadata": {
    "collapsed": false
   },
   "outputs": [],
   "source": [
    "from mnist_helper import read\n",
    "train_data = list(read(dataset=\"training\", path=\"images/\"))\n",
    "test_data = list(read(dataset=\"testing\", path=\"images/\"))"
   ]
  },
  {
   "cell_type": "code",
   "execution_count": 3,
   "metadata": {
    "collapsed": false
   },
   "outputs": [],
   "source": [
    "def flatten_image(img):\n",
    "    return [px for row in img for px in row]"
   ]
  },
  {
   "cell_type": "code",
   "execution_count": 4,
   "metadata": {
    "collapsed": true
   },
   "outputs": [],
   "source": [
    "def flatten_X(X):\n",
    "    return np.array([flatten_image(img) for img in X]).reshape(784, len(X))"
   ]
  },
  {
   "cell_type": "code",
   "execution_count": 5,
   "metadata": {
    "collapsed": true
   },
   "outputs": [],
   "source": [
    "def one_hot(Y):\n",
    "    hot = np.zeros((10, len(Y)))\n",
    "    for i in range(len(Y)):\n",
    "        hot[Y[i]][i] = 1\n",
    "    return hot"
   ]
  },
  {
   "cell_type": "code",
   "execution_count": 6,
   "metadata": {
    "collapsed": true
   },
   "outputs": [],
   "source": [
    "Y_train = one_hot([pair[0] for pair in train_data[0:50000]])\n",
    "Y_dev = one_hot([pair[0] for pair in train_data[50000:60000]])\n",
    "Y_test = one_hot([pair[0] for pair in test_data])"
   ]
  },
  {
   "cell_type": "code",
   "execution_count": 7,
   "metadata": {
    "collapsed": false
   },
   "outputs": [],
   "source": [
    "X_train = flatten_X([pair[1] for pair in train_data[0:50000]])\n",
    "X_dev = flatten_X([pair[1] for pair in train_data[50000:60000]])\n",
    "X_test = flatten_X([pair[1] for pair in test_data])"
   ]
  },
  {
   "cell_type": "markdown",
   "metadata": {
    "collapsed": false
   },
   "source": [
    "## Building the Network\n",
    "\n",
    "Next we construct the network architecture (zero hidden layers) and define a few helpful functions."
   ]
  },
  {
   "cell_type": "code",
   "execution_count": 8,
   "metadata": {
    "collapsed": false
   },
   "outputs": [],
   "source": [
    "def get_parameters():\n",
    "    X = tf.placeholder(dtype=tf.float32, shape=[784, None], name=\"X\")\n",
    "    Y = tf.placeholder(dtype=tf.float32, shape=[10, None], name=\"Y\")\n",
    "    W = tf.Variable(dtype=tf.float32, initial_value=np.random.randn(10, 784), name=\"W\")\n",
    "    b = tf.Variable(dtype=tf.float32, initial_value=tf.zeros([10, 1]), name=\"b\")\n",
    "    return (X, Y, W, b)"
   ]
  },
  {
   "cell_type": "code",
   "execution_count": 9,
   "metadata": {
    "collapsed": true
   },
   "outputs": [],
   "source": [
    "def get_cost(Z, Y):\n",
    "    cost = tf.reduce_mean(tf.nn.sigmoid_cross_entropy_with_logits(logits=Z, labels=Y))   \n",
    "    return cost"
   ]
  },
  {
   "cell_type": "code",
   "execution_count": 19,
   "metadata": {
    "collapsed": true
   },
   "outputs": [],
   "source": [
    "def forward_prop(X, W, b):\n",
    "    return tf.add(tf.matmul(W, X), b)"
   ]
  },
  {
   "cell_type": "markdown",
   "metadata": {},
   "source": [
    "## Model\n",
    "\n",
    "Finally we construct the gradient descent optimizer."
   ]
  },
  {
   "cell_type": "code",
   "execution_count": 28,
   "metadata": {
    "collapsed": false
   },
   "outputs": [],
   "source": [
    "def fit_model(X_train, Y_train, num_iterations=100, learning_rate=0.001):\n",
    "    tf.reset_default_graph()\n",
    "    costs = []\n",
    "    X, Y, W, b = get_parameters()\n",
    "    Z = forward_prop(X, W, b)\n",
    "    cost = get_cost(Z, Y)\n",
    "    optimizer = tf.train.GradientDescentOptimizer(learning_rate=learning_rate).minimize(cost)\n",
    "    \n",
    "    init = tf.global_variables_initializer()\n",
    "    with tf.Session() as sess:\n",
    "        sess.run(init)\n",
    "        \n",
    "        for iteration in range(num_iterations):\n",
    "            opt, iter_cost = sess.run([optimizer, cost], feed_dict={X:X_train, Y:Y_train})\n",
    "            costs.append(iter_cost)\n",
    "            if (iteration % 10 == 0):\n",
    "                print(\"Iteration %s: cost = %s\" % (iteration, iter_cost))\n",
    "        \n",
    "        Z = sess.run(Z)\n",
    "        correct_pct = tf.reduce_mean(tf.cast(tf.equal(tf.argmax(Z), tf.argmax(Y)), \"float\"))\n",
    "\n",
    "        # Calculate accuracy on the test set\n",
    "        accuracy = tf.reduce_mean(tf.cast(correct_prediction, \"float\"))\n",
    "        print(\"accuracy: %s\" % accuracy)"
   ]
  },
  {
   "cell_type": "code",
   "execution_count": null,
   "metadata": {
    "collapsed": true
   },
   "outputs": [],
   "source": [
    "fit_model(X_train, Y_train)"
   ]
  }
 ],
 "metadata": {
  "kernelspec": {
   "display_name": "Python 3",
   "language": "python",
   "name": "python3"
  },
  "language_info": {
   "codemirror_mode": {
    "name": "ipython",
    "version": 3
   },
   "file_extension": ".py",
   "mimetype": "text/x-python",
   "name": "python",
   "nbconvert_exporter": "python",
   "pygments_lexer": "ipython3",
   "version": "3.4.3"
  }
 },
 "nbformat": 4,
 "nbformat_minor": 1
}
